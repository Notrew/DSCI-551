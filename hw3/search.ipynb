{
 "cells": [
  {
   "cell_type": "code",
   "execution_count": 1,
   "id": "fbf77675",
   "metadata": {},
   "outputs": [],
   "source": [
    "import mysql.connector"
   ]
  },
  {
   "cell_type": "code",
   "execution_count": 13,
   "id": "4238658c",
   "metadata": {},
   "outputs": [],
   "source": [
    "cnx=mysql.connector.connect(user='root',password='Wangying0127',host='127.0.0.1',database='sakila')\n"
   ]
  },
  {
   "cell_type": "code",
   "execution_count": 14,
   "id": "1ce43201",
   "metadata": {},
   "outputs": [
    {
     "name": "stdout",
     "output_type": "stream",
     "text": [
      "JAMIE\n",
      "('JAMIE', 'RICE', 'Sterling Heights')\n",
      "('JAMIE', 'WAUGH', 'Kuwana')\n"
     ]
    }
   ],
   "source": [
    "cursor=cnx.cursor()\n",
    "\n",
    "first_name=input()\n",
    "query='SELECT first_name,last_name,city \\\n",
    "       FROM address LEFT JOIN customer on address.address_id=customer.address_id \\\n",
    "       LEFT JOIN city on address.city_id=city.city_id \\\n",
    "       WHERE first_name = \"'+str(first_name).upper()+ '\"'+\"ORDER BY first_name\"\n",
    "\n",
    "\n",
    "cursor.execute(query)\n",
    "\n",
    "for i in cursor:\n",
    "    print(i)\n",
    "    \n",
    "cursor.close()\n",
    "cnx.close()"
   ]
  }
 ],
 "metadata": {
  "kernelspec": {
   "display_name": "Python 3",
   "language": "python",
   "name": "python3"
  },
  "language_info": {
   "codemirror_mode": {
    "name": "ipython",
    "version": 3
   },
   "file_extension": ".py",
   "mimetype": "text/x-python",
   "name": "python",
   "nbconvert_exporter": "python",
   "pygments_lexer": "ipython3",
   "version": "3.8.8"
  }
 },
 "nbformat": 4,
 "nbformat_minor": 5
}
