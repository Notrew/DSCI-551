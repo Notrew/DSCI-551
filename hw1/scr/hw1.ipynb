{
 "cells": [
  {
   "cell_type": "markdown",
   "id": "9fe6faff",
   "metadata": {},
   "source": [
    "# part1:load"
   ]
  },
  {
   "cell_type": "code",
   "execution_count": 1,
   "id": "cecd11a9",
   "metadata": {},
   "outputs": [],
   "source": [
    "import pandas as pd\n",
    "import requests\n",
    "import json\n",
    "import sys"
   ]
  },
  {
   "cell_type": "code",
   "execution_count": 2,
   "id": "d838db94",
   "metadata": {},
   "outputs": [
    {
     "data": {
      "text/html": [
       "<div>\n",
       "<style scoped>\n",
       "    .dataframe tbody tr th:only-of-type {\n",
       "        vertical-align: middle;\n",
       "    }\n",
       "\n",
       "    .dataframe tbody tr th {\n",
       "        vertical-align: top;\n",
       "    }\n",
       "\n",
       "    .dataframe thead th {\n",
       "        text-align: right;\n",
       "    }\n",
       "</style>\n",
       "<table border=\"1\" class=\"dataframe\">\n",
       "  <thead>\n",
       "    <tr style=\"text-align: right;\">\n",
       "      <th></th>\n",
       "      <th>gender</th>\n",
       "      <th>SeniorCitizen</th>\n",
       "      <th>Partner</th>\n",
       "      <th>Dependents</th>\n",
       "      <th>tenure</th>\n",
       "      <th>PhoneService</th>\n",
       "      <th>MultipleLines</th>\n",
       "      <th>InternetService</th>\n",
       "      <th>OnlineSecurity</th>\n",
       "      <th>OnlineBackup</th>\n",
       "      <th>DeviceProtection</th>\n",
       "      <th>TechSupport</th>\n",
       "      <th>StreamingTV</th>\n",
       "      <th>StreamingMovies</th>\n",
       "      <th>Contract</th>\n",
       "      <th>PaperlessBilling</th>\n",
       "      <th>PaymentMethod</th>\n",
       "      <th>MonthlyCharges</th>\n",
       "      <th>TotalCharges</th>\n",
       "      <th>Churn</th>\n",
       "    </tr>\n",
       "    <tr>\n",
       "      <th>customerID</th>\n",
       "      <th></th>\n",
       "      <th></th>\n",
       "      <th></th>\n",
       "      <th></th>\n",
       "      <th></th>\n",
       "      <th></th>\n",
       "      <th></th>\n",
       "      <th></th>\n",
       "      <th></th>\n",
       "      <th></th>\n",
       "      <th></th>\n",
       "      <th></th>\n",
       "      <th></th>\n",
       "      <th></th>\n",
       "      <th></th>\n",
       "      <th></th>\n",
       "      <th></th>\n",
       "      <th></th>\n",
       "      <th></th>\n",
       "      <th></th>\n",
       "    </tr>\n",
       "  </thead>\n",
       "  <tbody>\n",
       "    <tr>\n",
       "      <th>7590-VHVEG</th>\n",
       "      <td>Female</td>\n",
       "      <td>0</td>\n",
       "      <td>Yes</td>\n",
       "      <td>No</td>\n",
       "      <td>1</td>\n",
       "      <td>No</td>\n",
       "      <td>No phone service</td>\n",
       "      <td>DSL</td>\n",
       "      <td>No</td>\n",
       "      <td>Yes</td>\n",
       "      <td>No</td>\n",
       "      <td>No</td>\n",
       "      <td>No</td>\n",
       "      <td>No</td>\n",
       "      <td>Month-to-month</td>\n",
       "      <td>Yes</td>\n",
       "      <td>Electronic check</td>\n",
       "      <td>29.85</td>\n",
       "      <td>29.85</td>\n",
       "      <td>No</td>\n",
       "    </tr>\n",
       "    <tr>\n",
       "      <th>5575-GNVDE</th>\n",
       "      <td>Male</td>\n",
       "      <td>0</td>\n",
       "      <td>No</td>\n",
       "      <td>No</td>\n",
       "      <td>34</td>\n",
       "      <td>Yes</td>\n",
       "      <td>No</td>\n",
       "      <td>DSL</td>\n",
       "      <td>Yes</td>\n",
       "      <td>No</td>\n",
       "      <td>Yes</td>\n",
       "      <td>No</td>\n",
       "      <td>No</td>\n",
       "      <td>No</td>\n",
       "      <td>One year</td>\n",
       "      <td>No</td>\n",
       "      <td>Mailed check</td>\n",
       "      <td>56.95</td>\n",
       "      <td>1889.5</td>\n",
       "      <td>No</td>\n",
       "    </tr>\n",
       "    <tr>\n",
       "      <th>3668-QPYBK</th>\n",
       "      <td>Male</td>\n",
       "      <td>0</td>\n",
       "      <td>No</td>\n",
       "      <td>No</td>\n",
       "      <td>2</td>\n",
       "      <td>Yes</td>\n",
       "      <td>No</td>\n",
       "      <td>DSL</td>\n",
       "      <td>Yes</td>\n",
       "      <td>Yes</td>\n",
       "      <td>No</td>\n",
       "      <td>No</td>\n",
       "      <td>No</td>\n",
       "      <td>No</td>\n",
       "      <td>Month-to-month</td>\n",
       "      <td>Yes</td>\n",
       "      <td>Mailed check</td>\n",
       "      <td>53.85</td>\n",
       "      <td>108.15</td>\n",
       "      <td>Yes</td>\n",
       "    </tr>\n",
       "    <tr>\n",
       "      <th>7795-CFOCW</th>\n",
       "      <td>Male</td>\n",
       "      <td>0</td>\n",
       "      <td>No</td>\n",
       "      <td>No</td>\n",
       "      <td>45</td>\n",
       "      <td>No</td>\n",
       "      <td>No phone service</td>\n",
       "      <td>DSL</td>\n",
       "      <td>Yes</td>\n",
       "      <td>No</td>\n",
       "      <td>Yes</td>\n",
       "      <td>Yes</td>\n",
       "      <td>No</td>\n",
       "      <td>No</td>\n",
       "      <td>One year</td>\n",
       "      <td>No</td>\n",
       "      <td>Bank transfer (automatic)</td>\n",
       "      <td>42.30</td>\n",
       "      <td>1840.75</td>\n",
       "      <td>No</td>\n",
       "    </tr>\n",
       "    <tr>\n",
       "      <th>9237-HQITU</th>\n",
       "      <td>Female</td>\n",
       "      <td>0</td>\n",
       "      <td>No</td>\n",
       "      <td>No</td>\n",
       "      <td>2</td>\n",
       "      <td>Yes</td>\n",
       "      <td>No</td>\n",
       "      <td>Fiber optic</td>\n",
       "      <td>No</td>\n",
       "      <td>No</td>\n",
       "      <td>No</td>\n",
       "      <td>No</td>\n",
       "      <td>No</td>\n",
       "      <td>No</td>\n",
       "      <td>Month-to-month</td>\n",
       "      <td>Yes</td>\n",
       "      <td>Electronic check</td>\n",
       "      <td>70.70</td>\n",
       "      <td>151.65</td>\n",
       "      <td>Yes</td>\n",
       "    </tr>\n",
       "  </tbody>\n",
       "</table>\n",
       "</div>"
      ],
      "text/plain": [
       "            gender  SeniorCitizen Partner Dependents  tenure PhoneService  \\\n",
       "customerID                                                                  \n",
       "7590-VHVEG  Female              0     Yes         No       1           No   \n",
       "5575-GNVDE    Male              0      No         No      34          Yes   \n",
       "3668-QPYBK    Male              0      No         No       2          Yes   \n",
       "7795-CFOCW    Male              0      No         No      45           No   \n",
       "9237-HQITU  Female              0      No         No       2          Yes   \n",
       "\n",
       "               MultipleLines InternetService OnlineSecurity OnlineBackup  \\\n",
       "customerID                                                                 \n",
       "7590-VHVEG  No phone service             DSL             No          Yes   \n",
       "5575-GNVDE                No             DSL            Yes           No   \n",
       "3668-QPYBK                No             DSL            Yes          Yes   \n",
       "7795-CFOCW  No phone service             DSL            Yes           No   \n",
       "9237-HQITU                No     Fiber optic             No           No   \n",
       "\n",
       "           DeviceProtection TechSupport StreamingTV StreamingMovies  \\\n",
       "customerID                                                            \n",
       "7590-VHVEG               No          No          No              No   \n",
       "5575-GNVDE              Yes          No          No              No   \n",
       "3668-QPYBK               No          No          No              No   \n",
       "7795-CFOCW              Yes         Yes          No              No   \n",
       "9237-HQITU               No          No          No              No   \n",
       "\n",
       "                  Contract PaperlessBilling              PaymentMethod  \\\n",
       "customerID                                                               \n",
       "7590-VHVEG  Month-to-month              Yes           Electronic check   \n",
       "5575-GNVDE        One year               No               Mailed check   \n",
       "3668-QPYBK  Month-to-month              Yes               Mailed check   \n",
       "7795-CFOCW        One year               No  Bank transfer (automatic)   \n",
       "9237-HQITU  Month-to-month              Yes           Electronic check   \n",
       "\n",
       "            MonthlyCharges TotalCharges Churn  \n",
       "customerID                                     \n",
       "7590-VHVEG           29.85        29.85    No  \n",
       "5575-GNVDE           56.95       1889.5    No  \n",
       "3668-QPYBK           53.85       108.15   Yes  \n",
       "7795-CFOCW           42.30      1840.75    No  \n",
       "9237-HQITU           70.70       151.65   Yes  "
      ]
     },
     "execution_count": 2,
     "metadata": {},
     "output_type": "execute_result"
    }
   ],
   "source": [
    "#read csv file to python\n",
    "df=pd.read_csv('./WA_Fn-UseC_-Telco-Customer-Churn.csv',index_col='customerID')\n",
    "df.head()"
   ]
  },
  {
   "cell_type": "code",
   "execution_count": 3,
   "id": "6dd82983",
   "metadata": {},
   "outputs": [],
   "source": [
    "#filter customers who are senior citizens\n",
    "df=df[df['SeniorCitizen']==1]"
   ]
  },
  {
   "cell_type": "code",
   "execution_count": 4,
   "id": "aa7827fa",
   "metadata": {},
   "outputs": [],
   "source": [
    "#transfer data to json document\n",
    "df_json=df.to_json(orient='index')"
   ]
  },
  {
   "cell_type": "code",
   "execution_count": 25,
   "id": "aafa6364",
   "metadata": {
    "scrolled": false
   },
   "outputs": [
    {
     "name": "stdout",
     "output_type": "stream",
     "text": [
      "Upload data successfully\n"
     ]
    }
   ],
   "source": [
    "#upload data to firebase's realtime database\n",
    "url='https://ying-wang-hw1-default-rtdb.firebaseio.com/customers.json'\n",
    "response=requests.put(url,df_json)\n",
    "re_status=str(response)\n",
    "if re_status=='<Response [200]>':\n",
    "    print('Upload data successfully')"
   ]
  },
  {
   "cell_type": "markdown",
   "id": "494d13dd",
   "metadata": {},
   "source": [
    "# part2:churn"
   ]
  },
  {
   "cell_type": "code",
   "execution_count": 23,
   "id": "8095f8b2",
   "metadata": {
    "scrolled": true
   },
   "outputs": [
    {
     "name": "stdout",
     "output_type": "stream",
     "text": [
      "5\n",
      "The first 5 customers IDs are:\n",
      "0011-IGKFF\n",
      "0013-EXCHZ\n",
      "0022-TCJCI\n",
      "0023-HGHWL\n",
      "0067-DKWBL\n"
     ]
    }
   ],
   "source": [
    "# k=sys.argv[1]\n",
    "k=input()\n",
    "re_churned=requests.get(url+'?orderBy=\"Churn\"'+'&'+'equalTo=\"Yes\"'\n",
    "                        +'&'+'limitToFirst='+str(k))\n",
    "df_churned=re_churned.json()\n",
    "print('The first '+ str(k)+' customers IDs are:')\n",
    "for i in df_churned:\n",
    "    print(i)"
   ]
  },
  {
   "cell_type": "markdown",
   "id": "a7b7920f",
   "metadata": {},
   "source": [
    "# part3:tenure"
   ]
  },
  {
   "cell_type": "code",
   "execution_count": 43,
   "id": "900ab631",
   "metadata": {},
   "outputs": [
    {
     "name": "stdout",
     "output_type": "stream",
     "text": [
      "10\n",
      "There are 862 customers have used the service for at least 10 months\n"
     ]
    }
   ],
   "source": [
    "k=input()\n",
    "re_tenure=requests.get(url+'?orderBy=\"tenure\"'+'&'+'startAt='+str(k))\n",
    "df_tenure=re_tenure.json()\n",
    "print('There are '+ str(len(df_tenure))+' customers have used the service for at least '+ str(k)+' months')"
   ]
  },
  {
   "cell_type": "code",
   "execution_count": 39,
   "id": "83c6b8bd",
   "metadata": {},
   "outputs": [
    {
     "data": {
      "text/plain": [
       "(962, 20)"
      ]
     },
     "execution_count": 39,
     "metadata": {},
     "output_type": "execute_result"
    }
   ],
   "source": [
    "#test above\n",
    "df1=df[df['tenure']>=5]\n",
    "df1.shape"
   ]
  }
 ],
 "metadata": {
  "kernelspec": {
   "display_name": "Python 3",
   "language": "python",
   "name": "python3"
  },
  "language_info": {
   "codemirror_mode": {
    "name": "ipython",
    "version": 3
   },
   "file_extension": ".py",
   "mimetype": "text/x-python",
   "name": "python",
   "nbconvert_exporter": "python",
   "pygments_lexer": "ipython3",
   "version": "3.8.8"
  }
 },
 "nbformat": 4,
 "nbformat_minor": 5
}
