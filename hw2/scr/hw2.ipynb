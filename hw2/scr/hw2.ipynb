{
 "cells": [
  {
   "cell_type": "code",
   "execution_count": 1,
   "id": "5478d6a2",
   "metadata": {},
   "outputs": [],
   "source": [
    "from lxml import etree\n",
    "import sys\n",
    "import json"
   ]
  },
  {
   "cell_type": "code",
   "execution_count": 51,
   "id": "8079b655",
   "metadata": {},
   "outputs": [],
   "source": [
    "# file_name=sys.argv[1]\n",
    "# output_json=sys.argv[2]\n",
    "# file_name=input()\n",
    "f=open(\"./wk4-fsimage564.xml\")\n",
    "tree=etree.parse(f)\n",
    "output_dict={}"
   ]
  },
  {
   "cell_type": "code",
   "execution_count": 3,
   "id": "548ef60d",
   "metadata": {},
   "outputs": [],
   "source": [
    "def printf(elems):\n",
    "    if (isinstance(elems, list)):\n",
    "        for elem in elems:\n",
    "            if isinstance(elem, str):\n",
    "                print(elem) \n",
    "            else:\n",
    "                print(etree.tostring(elem).decode('utf-8')) \n",
    "    else: # just a single element\n",
    "        print(etree.tostring(elems).decode('utf-8'))"
   ]
  },
  {
   "cell_type": "code",
   "execution_count": 52,
   "id": "de59f4e5",
   "metadata": {},
   "outputs": [
    {
     "name": "stdout",
     "output_type": "stream",
     "text": [
      "{'number of files': 29}\n"
     ]
    }
   ],
   "source": [
    "#find number of files\n",
    "f_count=0\n",
    "for element in tree.xpath(\"/fsimage/INodeSection/inode[type='FILE']\"):\n",
    "    f_count +=1\n",
    "    #printf(element)\n",
    "    #file =str(etree.tostring(element))\n",
    "    #print(files)\n",
    "    \n",
    "output_dict[\"number of files\"]=f_count\n",
    "print(output_dict)"
   ]
  },
  {
   "cell_type": "code",
   "execution_count": 53,
   "id": "d14056ee",
   "metadata": {},
   "outputs": [
    {
     "name": "stdout",
     "output_type": "stream",
     "text": [
      "{'number of files': 29, 'number of directories': 9}\n"
     ]
    }
   ],
   "source": [
    "#find number of directories\n",
    "d_count=0\n",
    "for element in tree.xpath(\"/fsimage/INodeSection/inode[type='DIRECTORY']\"):\n",
    "    d_count +=1\n",
    "    #printf(element)\n",
    "    #file =str(etree.tostring(element))\n",
    "    #print(files)\n",
    "    \n",
    "output_dict[\"number of directories\"]=d_count\n",
    "print(output_dict)"
   ]
  },
  {
   "cell_type": "code",
   "execution_count": 60,
   "id": "4e1796de",
   "metadata": {},
   "outputs": [],
   "source": [
    "class Node(object):\n",
    "    def __init__(self,name):\n",
    "        self.name=name\n",
    "        self.children=[]\n",
    "    def addChild(self,name):\n",
    "        self.children.append(Node(name))\n",
    "        return self\n",
    "    def addChildrenToParent(self,parent_inum,child_inum):\n",
    "        queue=[self]\n",
    "        while len(queue)>0:\n",
    "            current=queue.pop(0)\n",
    "            if parent_inum==current.name:\n",
    "                current.addChild(child_inum)\n",
    "            else:\n",
    "                queue.extend(current.children)\n",
    "    def deepFirstSearch(self,array=[]):\n",
    "        array.append(self.name)\n",
    "        for child in self.children:\n",
    "            child.deepFirstSearch(array)\n",
    "        return array\n",
    "    def breadthFirstSearch(self,array=[]):\n",
    "        queue=[self]\n",
    "        while len(queue)>0:\n",
    "            current=queue.pop(0)\n",
    "            array.append(current.name)\n",
    "            queue.extend(current.children)\n",
    "        return array\n",
    "\n",
    "    def maxDepth(self) -> int:\n",
    "        d = 1\n",
    "        for child in self.children:\n",
    "            d = max(d, child.maxDepth() + 1)\n",
    "        return d\n",
    "    \n",
    "    def countMaxDepth(self,depth=1,maxd=1):\n",
    "        if len(self.children) !=0:\n",
    "            depth +=1\n",
    "            maxd=max(depth,maxd)\n",
    "        for child in self.children:\n",
    "            child.countMaxDepth(depth,maxdepth)\n",
    "        return maxdepth"
   ]
  },
  {
   "cell_type": "code",
   "execution_count": 63,
   "id": "75092170",
   "metadata": {
    "scrolled": true
   },
   "outputs": [
    {
     "name": "stdout",
     "output_type": "stream",
     "text": [
      "<inode><id>16385</id><type>DIRECTORY</type><name/><mtime>1581231015982</mtime><permission>ec2-user:supergroup:0755</permission><nsquota>9223372036854775807</nsquota><dsquota>-1</dsquota></inode>\n",
      "\n",
      "16385\n",
      "[16385, 16386, 16387, 16390, 16412, 16401, 16391, 16388, 16413, 16402, 16392, 16393, 16394, 16395, 16396, 16397, 16398, 16399, 16400, 16389, 16414, 16415, 16416, 16417, 16418, 16419, 16420, 16421, 16422, 16403, 16404, 16405, 16406, 16407, 16408, 16409, 16410, 16411, 16385, 16386, 16387, 16390, 16412, 16401, 16391, 16388, 16413, 16402, 16392, 16393, 16394, 16395, 16396, 16397, 16398, 16399, 16400, 16389, 16414, 16415, 16416, 16417, 16418, 16419, 16420, 16421, 16422, 16403, 16404, 16405, 16406, 16407, 16408, 16409, 16410, 16411, 16385, 16386, 16387, 16390, 16412, 16401, 16391, 16388, 16413, 16402, 16392, 16393, 16394, 16395, 16396, 16397, 16398, 16399, 16400, 16389, 16414, 16415, 16416, 16417, 16418, 16419, 16420, 16421, 16422, 16403, 16404, 16405, 16406, 16407, 16408, 16409, 16410, 16411]\n",
      "{'number of files': 29, 'number of directories': 9, 'maximum depth of directory tree': 6, 'file size': {'max': 11392, 'min': 19}}\n"
     ]
    }
   ],
   "source": [
    "\n",
    "#for element in tree.xpath(\"/fsimage/INodeSection/inode[name[not(node())]]\"):\n",
    " #   print(type(element.xpath(\"./id/text()\")[0]))\n",
    "\n",
    "root_node=tree.xpath(\"/fsimage/INodeSection/inode[name[not(node())]]\")\n",
    "root_num=root_node[0].xpath(\"./id/text()\")[0]\n",
    "root_num=int(root_num)\n",
    "print(root_num)\n",
    "\n",
    "\n",
    "dir_tree=Node(root_num)\n",
    "\n",
    "for element in tree.xpath(\"/fsimage/INodeDirectorySection/directory\"):\n",
    "    for i in element.xpath(\"./parent/text()\"):\n",
    "        parent_inum=int(i)\n",
    "        for j in element.xpath(\"./child/text()\"):\n",
    "            child_inum=int(j)\n",
    "            dir_tree.addChildrenToParent(parent_inum,child_inum)\n",
    "#             queue=[dir_tree]\n",
    "#             while len(queue)>0:\n",
    "#                 current=queue.pop(0)\n",
    "#                 if parent_inum==current.name:\n",
    "#                     current.addChild(child_inum)\n",
    "#                 else:\n",
    "#                     #array.append(current.name)\n",
    "#                     queue.extend(current.children)\n",
    "                    \n",
    "print(dir_tree.breadthFirstSearch())\n",
    "maxdepth=dir_tree.maxDepth()\n",
    "output_dict[\"maximum depth of directory tree\"]=maxdepth\n",
    "print(output_dict)"
   ]
  },
  {
   "cell_type": "code",
   "execution_count": 56,
   "id": "d1dcfbd7",
   "metadata": {
    "scrolled": true
   },
   "outputs": [
    {
     "name": "stdout",
     "output_type": "stream",
     "text": [
      "{'number of files': 29, 'number of directories': 9, 'maximum depth of directory tree': 6, 'file size': {'max': 11392, 'min': 19}}\n"
     ]
    }
   ],
   "source": [
    "#find file size\n",
    "f_size_l=[]\n",
    "cnt=1\n",
    "for element in tree.xpath(\"/fsimage/INodeSection/inode[type='FILE']/blocks\"):\n",
    "    #printf(element)\n",
    "    blk_size = 0\n",
    "    for num in element.xpath(\"./block/numBytes/text()\"):\n",
    "        blk_size +=int(num)\n",
    "    f_size_l.append(blk_size)\n",
    "f_size_d={}\n",
    "f_size_d[\"max\"]=max(f_size_l)\n",
    "f_size_d[\"min\"]=min(f_size_l)\n",
    "output_dict[\"file size\"]=f_size_d\n",
    "print(output_dict)"
   ]
  },
  {
   "cell_type": "code",
   "execution_count": 23,
   "id": "72b17b89",
   "metadata": {},
   "outputs": [],
   "source": [
    "json.dump(output_dict,open('output.json','w'),indent=4)"
   ]
  }
 ],
 "metadata": {
  "kernelspec": {
   "display_name": "Python 3",
   "language": "python",
   "name": "python3"
  },
  "language_info": {
   "codemirror_mode": {
    "name": "ipython",
    "version": 3
   },
   "file_extension": ".py",
   "mimetype": "text/x-python",
   "name": "python",
   "nbconvert_exporter": "python",
   "pygments_lexer": "ipython3",
   "version": "3.8.8"
  }
 },
 "nbformat": 4,
 "nbformat_minor": 5
}
