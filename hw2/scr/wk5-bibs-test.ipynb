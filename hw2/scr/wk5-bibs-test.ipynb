{
 "cells": [
  {
   "cell_type": "code",
   "execution_count": 3,
   "id": "92c68c2a",
   "metadata": {},
   "outputs": [],
   "source": [
    "from lxml import etree\n",
    "import json"
   ]
  },
  {
   "cell_type": "code",
   "execution_count": 14,
   "id": "701c7fb0",
   "metadata": {},
   "outputs": [],
   "source": [
    "# file_name=sys.argv[1]\n",
    "# output_json=sys.argv[2]\n",
    "# file_name=input()\n",
    "f=open(\"./wk5-bibs.xml\")\n",
    "tree=etree.parse(f)\n",
    "output_dict={}"
   ]
  },
  {
   "cell_type": "code",
   "execution_count": 6,
   "id": "4b46ae8a",
   "metadata": {},
   "outputs": [],
   "source": [
    "def printf(elems):\n",
    "    if (isinstance(elems, list)):\n",
    "        for elem in elems:\n",
    "            if isinstance(elem, str):\n",
    "                print(elem) \n",
    "            else:\n",
    "                print(etree.tostring(elem).decode('utf-8')) \n",
    "    else: # just a single element\n",
    "        print(etree.tostring(elems).decode('utf-8'))"
   ]
  },
  {
   "cell_type": "code",
   "execution_count": 47,
   "id": "a84442b4",
   "metadata": {},
   "outputs": [
    {
     "name": "stdout",
     "output_type": "stream",
     "text": [
      "Serge Abiteboul\n",
      "Victor Vianu\n",
      "Jeffrey D. Ullman\n"
     ]
    }
   ],
   "source": [
    "test=tree.xpath(\"/bib/book[author/text()]/author/text()\")\n",
    "printf(test)"
   ]
  }
 ],
 "metadata": {
  "kernelspec": {
   "display_name": "Python 3",
   "language": "python",
   "name": "python3"
  },
  "language_info": {
   "codemirror_mode": {
    "name": "ipython",
    "version": 3
   },
   "file_extension": ".py",
   "mimetype": "text/x-python",
   "name": "python",
   "nbconvert_exporter": "python",
   "pygments_lexer": "ipython3",
   "version": "3.8.8"
  }
 },
 "nbformat": 4,
 "nbformat_minor": 5
}
